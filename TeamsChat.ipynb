{
 "cells": [
  {
   "cell_type": "code",
   "execution_count": null,
   "metadata": {},
   "outputs": [],
   "source": [
    "import csv"
   ]
  },
  {
   "cell_type": "code",
   "execution_count": null,
   "metadata": {},
   "outputs": [],
   "source": [
    "filename = \"\"\n",
    "path = \"\"\n",
    "file = path + filename+\".csv\"\n",
    "chatMembers = []\n",
    "with open(file, \"r\",encoding=\"utf-8\",newline='') as file:\n",
    "    csv_reader = csv.reader(file,delimiter=\",\")\n",
    "    next(csv_reader)\n",
    "    for row in csv_reader:\n",
    "        if row[0] not in chatMembers:\n",
    "            chatMembers.append(row[0])\n",
    "    print(chatMembers)"
   ]
  },
  {
   "cell_type": "code",
   "execution_count": null,
   "metadata": {},
   "outputs": [],
   "source": [
    "def findTags(message,members=chatMembers):\n",
    "    tagged = []\n",
    "    for member in members:\n",
    "        if member in message:\n",
    "#             print(member)\n",
    "            tagged.append(member)\n",
    "    return tagged\n"
   ]
  },
  {
   "cell_type": "code",
   "execution_count": null,
   "metadata": {},
   "outputs": [],
   "source": []
  },
  {
   "cell_type": "code",
   "execution_count": null,
   "metadata": {},
   "outputs": [],
   "source": [
    "file = path + filename+\".csv\"\n",
    "items = []\n",
    "\n",
    "with open(file, \"r\",encoding=\"utf-8\",newline='') as file:\n",
    "    csv_reader = csv.reader(file,delimiter=\",\")\n",
    "    next(csv_reader)\n",
    "    for row in csv_reader:\n",
    "        chatItem = []\n",
    "        timestamp = row[1]\n",
    "        chatItem.append(timestamp)\n",
    "        person = row[0]\n",
    "        chatItem.append(person)\n",
    "        team = filename\n",
    "        chatItem.append(team)\n",
    "        event = \"postMessage\"\n",
    "        chatItem.append(event)\n",
    "        contents = row[3]\n",
    "        chatItem.append(contents)\n",
    "        tagged = findTags(contents)\n",
    "        chatItem.append(tagged)\n",
    "        items.append(list(chatItem))\n",
    "#         print(chatItem)"
   ]
  },
  {
   "cell_type": "code",
   "execution_count": null,
   "metadata": {},
   "outputs": [],
   "source": [
    "path = \"\"\n",
    "file = path + filename + \".csv\"\n",
    "\n",
    "with open(file,\"w+\",encoding=\"utf-8\",newline='') as file:\n",
    "    writer = csv.writer(file,delimiter=\",\")\n",
    "    writer.writerow([\"timestamp\",\"person\",\"team\",\"type\"])\n",
    "    for item in items:\n",
    "#           print(item)\n",
    "        writer.writerow(item)"
   ]
  }
 ],
 "metadata": {
  "kernelspec": {
   "display_name": "Python 3",
   "language": "python",
   "name": "python3"
  },
  "language_info": {
   "codemirror_mode": {
    "name": "ipython",
    "version": 3
   },
   "file_extension": ".py",
   "mimetype": "text/x-python",
   "name": "python",
   "nbconvert_exporter": "python",
   "pygments_lexer": "ipython3",
   "version": "3.9.0"
  }
 },
 "nbformat": 4,
 "nbformat_minor": 4
}
