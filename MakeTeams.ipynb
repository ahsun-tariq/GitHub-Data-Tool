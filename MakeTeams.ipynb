{
 "cells": [
  {
   "cell_type": "code",
   "execution_count": null,
   "metadata": {},
   "outputs": [],
   "source": [
    "import csv"
   ]
  },
  {
   "cell_type": "code",
   "execution_count": null,
   "metadata": {},
   "outputs": [],
   "source": [
    "filename = \"\"\n",
    "path = \"\"\n",
    "file = path+filename\n",
    "teams = {}\n",
    "\n",
    "with open(file,\"r\",encoding=\"utf-8\",newline='') as file:\n",
    "    csv_reader = csv.reader(file,delimiter=\",\")\n",
    "    next(csv_reader)\n",
    "\n",
    "    for row in csv_reader:\n",
    "        team = row[2]\n",
    "        if not team in teams:\n",
    "            teams[team]=[]\n",
    "    print(teams)\n",
    "\n",
    "\n",
    "    \n"
   ]
  },
  {
   "cell_type": "code",
   "execution_count": null,
   "metadata": {},
   "outputs": [],
   "source": [
    "file = path+filename\n",
    "\n",
    "with open(file,\"r\",encoding=\"utf-8\",newline='') as file:\n",
    "    csv_reader = csv.reader(file,delimiter=\",\")\n",
    "    next(csv_reader)\n",
    "    for row in csv_reader:\n",
    "        team = row[2]\n",
    "        if team in teams.keys():\n",
    "            teams[team].append(row)"
   ]
  },
  {
   "cell_type": "code",
   "execution_count": null,
   "metadata": {},
   "outputs": [],
   "source": [
    "for team in teams:\n",
    "    name = team + \"GITHUB\"\n",
    "    with open(name+\".csv\", mode=\"w+\",encoding=\"utf-8\",newline='') as file:\n",
    "        writer = csv.writer(file, delimiter=\",\")\n",
    "        writer.writerow([\"timestamp\",\"person\",\"team\",\"type\"])\n",
    "        for row in teams[team]:\n",
    "            writer.writerow(row)\n",
    "        \n",
    "    "
   ]
  }
 ],
 "metadata": {
  "kernelspec": {
   "display_name": "Python 3",
   "language": "python",
   "name": "python3"
  },
  "language_info": {
   "codemirror_mode": {
    "name": "ipython",
    "version": 3
   },
   "file_extension": ".py",
   "mimetype": "text/x-python",
   "name": "python",
   "nbconvert_exporter": "python",
   "pygments_lexer": "ipython3",
   "version": "3.9.0"
  }
 },
 "nbformat": 4,
 "nbformat_minor": 4
}
